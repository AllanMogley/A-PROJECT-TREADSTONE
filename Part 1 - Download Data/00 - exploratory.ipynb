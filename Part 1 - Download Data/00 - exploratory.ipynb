{
 "cells": [
  {
   "cell_type": "code",
   "execution_count": null,
   "metadata": {},
   "outputs": [],
   "source": [
    "import pandas as pd\n",
    "import matplotlib as plt\n",
    "import numpy as np\n",
    "import seaborn as sns\n",
    "from sklearn.model_selection import train_test_split\n",
    "from sklearn.preprocessing import MinMaxScaler\n",
    "from tensorflow.keras.models import Sequential # type: ignore\n",
    "from tensorflow.keras.layers import LSTM, Dense # type: ignore\n",
    "from tensorflow.keras.optimizers import Adam # type: ignore"
   ]
  },
  {
   "cell_type": "code",
   "execution_count": null,
   "metadata": {},
   "outputs": [],
   "source": [
    "df = pd.read_csv('Data_In.csv')\n",
    "df.rename(columns = {'company_name' : 'Company'}, inplace = True)\n",
    "\n",
    "# Print Rows with Null Values\n",
    "# df[df.isnull().any(axis=1)]"
   ]
  },
  {
   "cell_type": "code",
   "execution_count": null,
   "metadata": {},
   "outputs": [],
   "source": [
    "search_term = 'AMAZON'\n",
    "factor = 'Company'\n",
    "\n",
    "# Filter rows where 'Type' is equal to 'Health'\n",
    "filtered_df = df[df[factor] == search_term]\n"
   ]
  },
  {
   "cell_type": "code",
   "execution_count": null,
   "metadata": {},
   "outputs": [],
   "source": [
    "data = filtered_df['Close'].values.reshape(-1, 1)\n",
    "scaler = MinMaxScaler()\n",
    "data_scaled = scaler.fit_transform(data)"
   ]
  },
  {
   "cell_type": "code",
   "execution_count": null,
   "metadata": {},
   "outputs": [],
   "source": [
    "def create_sequences(data, seq_length):\n",
    "    sequences, labels = [], []\n",
    "    \n",
    "    for i in range(len(data) - seq_length):\n",
    "        seq = data[i:i + seq_length, 0]\n",
    "        label = data[i + seq_length, 0]\n",
    "        sequences.append(seq)\n",
    "        labels.append(label)\n",
    "    return np.array(sequences), np.array(labels)"
   ]
  },
  {
   "cell_type": "code",
   "execution_count": null,
   "metadata": {},
   "outputs": [],
   "source": [
    "seq_length = 5\n",
    "n_samples = len(data_scaled)\n",
    "sequences, labels = create_sequences(data_scaled, seq_length)\n",
    "split = int(0.8 * len(sequences))\n",
    "X_test, y_test = sequences[split:], labels[split:]\n",
    "X_train, y_train = sequences[:split], labels[:split]"
   ]
  },
  {
   "cell_type": "code",
   "execution_count": null,
   "metadata": {},
   "outputs": [],
   "source": [
    "model_lstm = Sequential()\n",
    "model_lstm.add(LSTM(100, activation='relu', input_shape=(seq_length, 1), return_sequences=True))\n",
    "model_lstm.add(LSTM(50, activation='relu'))\n",
    "model_lstm.add(Dense(1))\n",
    "model_lstm.compile(optimizer=Adam(learning_rate=0.001), loss='mse')"
   ]
  },
  {
   "cell_type": "code",
   "execution_count": null,
   "metadata": {},
   "outputs": [],
   "source": [
    "model_lstm.fit(X_train, y_train, epochs=40, batch_size=32, validation_data=(X_test, y_test))\n",
    "predictions_lstm = model_lstm.predict(X_test)"
   ]
  },
  {
   "cell_type": "code",
   "execution_count": null,
   "metadata": {},
   "outputs": [],
   "source": [
    "predictions__LSTM = scaler.inverse_transform(predictions_lstm)\n",
    "y_test_actual_LSTM = scaler.inverse_transform(y_test.reshape(-1, 1))"
   ]
  },
  {
   "cell_type": "code",
   "execution_count": null,
   "metadata": {},
   "outputs": [],
   "source": [
    "dates_test = df['Date'].iloc[split + seq_length:]\n",
    "# df_plot_lstm = pd.DataFrame({'Fechas': dates_test, 'Real': y_test_actual_LSTM.flatten(), 'Predict': predictions__LSTM.flatten()})\n",
    "df_plot_lstm = pd.DataFrame({'Fechas': dates_test[:len(predictions__LSTM)], 'Real': y_test_actual_LSTM.flatten(), 'Predict': predictions__LSTM.flatten()})\n",
    "\n",
    "df_plot_lstm.tail(7)\n",
    "# df_plot_lstm.to_csv('AMAZON.csv')"
   ]
  }
 ],
 "metadata": {
  "kernelspec": {
   "display_name": "DSC",
   "language": "python",
   "name": "python3"
  },
  "language_info": {
   "codemirror_mode": {
    "name": "ipython",
    "version": 3
   },
   "file_extension": ".py",
   "mimetype": "text/x-python",
   "name": "python",
   "nbconvert_exporter": "python",
   "pygments_lexer": "ipython3",
   "version": "3.10.12"
  }
 },
 "nbformat": 4,
 "nbformat_minor": 2
}
