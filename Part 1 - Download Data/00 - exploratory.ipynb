{
 "cells": [
  {
   "cell_type": "code",
   "execution_count": null,
   "metadata": {},
   "outputs": [],
   "source": [
    "import pandas as pd\n",
    "import matplotlib as plt\n",
    "import numpy as np\n",
    "from sklearn.model_selection import train_test_split"
   ]
  },
  {
   "cell_type": "code",
   "execution_count": null,
   "metadata": {},
   "outputs": [],
   "source": [
    "df = pd.read_csv('Data_In.csv')\n",
    "df.rename(columns = {'company_name' : 'Company'}, inplace = True)\n",
    "\n",
    "# Print Rows with Null Values\n",
    "df[df.isnull().any(axis=1)]"
   ]
  },
  {
   "cell_type": "code",
   "execution_count": null,
   "metadata": {},
   "outputs": [],
   "source": [
    "bins_ = [-1, 4.954778e+07, 9.175420e+07, 1.914332e+08, np.inf]\n",
    "labels_ = [1, 2, 3, 4]\n",
    "df['Volume_cat'] = pd.cut(df['Volume'], bins = bins_, labels = labels_)\n",
    "# df[\"Volume_cat\"].value_counts().sort_index().plot.bar(rot = 0)"
   ]
  },
  {
   "cell_type": "code",
   "execution_count": null,
   "metadata": {},
   "outputs": [],
   "source": [
    "# Find Correlation\n",
    "corr = df.corr()\n",
    "corr['Volume'].sort_values(ascending = True)"
   ]
  },
  {
   "cell_type": "code",
   "execution_count": null,
   "metadata": {},
   "outputs": [],
   "source": [
    "df_train, df_test = train_test_split(df, test_size = 0.2, stratify = df['Volume_cat'], random_state = 42)\n",
    "print('Train -->', df_train.shape)\n",
    "print('Test  -->', df_test.shape)"
   ]
  }
 ],
 "metadata": {
  "kernelspec": {
   "display_name": "DSC",
   "language": "python",
   "name": "python3"
  },
  "language_info": {
   "codemirror_mode": {
    "name": "ipython",
    "version": 3
   },
   "file_extension": ".py",
   "mimetype": "text/x-python",
   "name": "python",
   "nbconvert_exporter": "python",
   "pygments_lexer": "ipython3",
   "version": "3.7.14"
  }
 },
 "nbformat": 4,
 "nbformat_minor": 2
}
