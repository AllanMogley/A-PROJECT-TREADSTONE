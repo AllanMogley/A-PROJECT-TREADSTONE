{
 "cells": [
  {
   "cell_type": "code",
   "execution_count": null,
   "metadata": {},
   "outputs": [],
   "source": [
    "import pandas as pd\n",
    "# import matplotlib as plt\n",
    "import numpy as np\n",
    "# import seaborn as sns\n",
    "# from sklearn.model_selection import train_test_split\n",
    "from sklearn.preprocessing import MinMaxScaler\n",
    "from tensorflow.keras.models import Sequential, load_model # type: ignore\n",
    "from tensorflow.keras.layers import LSTM, Dense # type: ignore\n",
    "from tensorflow.keras.optimizers import Adam # type: ignore\n",
    "# from tensorflow.keras.callbacks import ModelCheckpoint # type: ignore\n",
    "# from keras import metrics"
   ]
  },
  {
   "cell_type": "code",
   "execution_count": null,
   "metadata": {},
   "outputs": [],
   "source": [
    "df = pd.read_csv('Data_In.csv')\n",
    "df.rename(columns = {'company_name' : 'Company'}, inplace = True)\n",
    "\n",
    "# Print Rows with Null Values\n",
    "# df[df.isnull().any(axis=1)]"
   ]
  },
  {
   "cell_type": "code",
   "execution_count": null,
   "metadata": {},
   "outputs": [],
   "source": [
    "factor = 'Company'\n",
    "search_term = 'AMAZON'\n",
    "\n",
    "# Filter rows where 'Type' is equal to 'Health'\n",
    "filtered_df = df[df[factor] == search_term]\n",
    "filtered_df.shape\n"
   ]
  },
  {
   "cell_type": "code",
   "execution_count": null,
   "metadata": {},
   "outputs": [],
   "source": [
    "# Reshape data into a 1D array\n",
    "# Scale data to the min and max of the rows i.e 0 -1 range\n",
    "# Flatten the data once again to a 1D array\n",
    "# ====================================================================\n",
    "\n",
    "data = filtered_df['Close'].values.reshape(-1, 1)\n",
    "scaler = MinMaxScaler()\n",
    "data_scaled = scaler.fit_transform(data)\n",
    "# data_scaled[:10]"
   ]
  },
  {
   "cell_type": "code",
   "execution_count": null,
   "metadata": {},
   "outputs": [],
   "source": [
    "def create_sequences(data, seq_length):\n",
    "    sequences, labels = [], []\n",
    "    \n",
    "    for i in range(len(data) - seq_length):\n",
    "        seq = data[i:i + seq_length, 0]\n",
    "        label = data[i:i + seq_length, 0]\n",
    "        sequences.append(seq)\n",
    "        labels.append(label)\n",
    "    return np.array(sequences), np.array(labels)"
   ]
  },
  {
   "cell_type": "code",
   "execution_count": null,
   "metadata": {},
   "outputs": [],
   "source": [
    "seq_length = 1\n",
    "n_samples = len(data_scaled)\n",
    "sequences, labels = create_sequences(data_scaled, seq_length)\n",
    "split = int(0.9 * len(sequences))\n",
    "X_test, y_test = sequences[split:], labels[split:]\n",
    "X_train, y_train = sequences[:split], labels[:split]"
   ]
  },
  {
   "cell_type": "code",
   "execution_count": null,
   "metadata": {},
   "outputs": [],
   "source": [
    "model_lstm = Sequential()\n",
    "model_lstm.add(LSTM(100, activation='relu', input_shape=(seq_length, 1), return_sequences=True))\n",
    "model_lstm.add(LSTM(50, activation='relu'))\n",
    "# model_lstm.add(Dense(320))\n",
    "model_lstm.add(Dense(200))\n",
    "model_lstm.add(Dense(1))\n",
    "model_lstm.compile(optimizer=Adam(learning_rate=0.001), loss='mse')"
   ]
  },
  {
   "cell_type": "code",
   "execution_count": null,
   "metadata": {},
   "outputs": [],
   "source": [
    "model_lstm.fit(X_train, y_train, epochs=20, batch_size=32, validation_data=(X_test, y_test))"
   ]
  },
  {
   "cell_type": "code",
   "execution_count": null,
   "metadata": {},
   "outputs": [],
   "source": [
    "model_lstm.save('model_lstm_7.keras')"
   ]
  },
  {
   "cell_type": "code",
   "execution_count": 103,
   "metadata": {},
   "outputs": [
    {
     "name": "stdout",
     "output_type": "stream",
     "text": [
      "\u001b[1m21/21\u001b[0m \u001b[32m━━━━━━━━━━━━━━━━━━━━\u001b[0m\u001b[37m\u001b[0m \u001b[1m2s\u001b[0m 35ms/step\n"
     ]
    }
   ],
   "source": [
    "predictor = load_model('model_lstm_7.keras')\n",
    "amazn = predictor.predict(X_test)"
   ]
  },
  {
   "cell_type": "code",
   "execution_count": 104,
   "metadata": {},
   "outputs": [],
   "source": [
    "amazn = scaler.inverse_transform(amazn)\n",
    "amazn_y = scaler.inverse_transform(y_test.reshape(-1, 1))"
   ]
  },
  {
   "cell_type": "code",
   "execution_count": 106,
   "metadata": {},
   "outputs": [
    {
     "data": {
      "text/html": [
       "<div>\n",
       "<style scoped>\n",
       "    .dataframe tbody tr th:only-of-type {\n",
       "        vertical-align: middle;\n",
       "    }\n",
       "\n",
       "    .dataframe tbody tr th {\n",
       "        vertical-align: top;\n",
       "    }\n",
       "\n",
       "    .dataframe thead th {\n",
       "        text-align: right;\n",
       "    }\n",
       "</style>\n",
       "<table border=\"1\" class=\"dataframe\">\n",
       "  <thead>\n",
       "    <tr style=\"text-align: right;\">\n",
       "      <th></th>\n",
       "      <th>Date</th>\n",
       "      <th>Real</th>\n",
       "      <th>Predict</th>\n",
       "    </tr>\n",
       "  </thead>\n",
       "  <tbody>\n",
       "    <tr>\n",
       "      <th>31946</th>\n",
       "      <td>2023-12-15</td>\n",
       "      <td>147.419998</td>\n",
       "      <td>147.597336</td>\n",
       "    </tr>\n",
       "    <tr>\n",
       "      <th>31947</th>\n",
       "      <td>2023-12-18</td>\n",
       "      <td>149.970001</td>\n",
       "      <td>150.138992</td>\n",
       "    </tr>\n",
       "    <tr>\n",
       "      <th>31948</th>\n",
       "      <td>2023-12-19</td>\n",
       "      <td>154.070007</td>\n",
       "      <td>154.237717</td>\n",
       "    </tr>\n",
       "    <tr>\n",
       "      <th>31949</th>\n",
       "      <td>2023-12-20</td>\n",
       "      <td>153.789993</td>\n",
       "      <td>153.957306</td>\n",
       "    </tr>\n",
       "    <tr>\n",
       "      <th>31950</th>\n",
       "      <td>2023-12-21</td>\n",
       "      <td>152.119995</td>\n",
       "      <td>152.286469</td>\n",
       "    </tr>\n",
       "    <tr>\n",
       "      <th>31951</th>\n",
       "      <td>2023-12-22</td>\n",
       "      <td>153.839996</td>\n",
       "      <td>154.007385</td>\n",
       "    </tr>\n",
       "    <tr>\n",
       "      <th>31952</th>\n",
       "      <td>2023-12-26</td>\n",
       "      <td>153.419998</td>\n",
       "      <td>153.586914</td>\n",
       "    </tr>\n",
       "    <tr>\n",
       "      <th>31953</th>\n",
       "      <td>2023-12-27</td>\n",
       "      <td>153.410004</td>\n",
       "      <td>153.576904</td>\n",
       "    </tr>\n",
       "    <tr>\n",
       "      <th>31954</th>\n",
       "      <td>2023-12-28</td>\n",
       "      <td>153.339996</td>\n",
       "      <td>153.506836</td>\n",
       "    </tr>\n",
       "    <tr>\n",
       "      <th>31955</th>\n",
       "      <td>2023-12-29</td>\n",
       "      <td>153.380005</td>\n",
       "      <td>153.546875</td>\n",
       "    </tr>\n",
       "  </tbody>\n",
       "</table>\n",
       "</div>"
      ],
      "text/plain": [
       "             Date        Real     Predict\n",
       "31946  2023-12-15  147.419998  147.597336\n",
       "31947  2023-12-18  149.970001  150.138992\n",
       "31948  2023-12-19  154.070007  154.237717\n",
       "31949  2023-12-20  153.789993  153.957306\n",
       "31950  2023-12-21  152.119995  152.286469\n",
       "31951  2023-12-22  153.839996  154.007385\n",
       "31952  2023-12-26  153.419998  153.586914\n",
       "31953  2023-12-27  153.410004  153.576904\n",
       "31954  2023-12-28  153.339996  153.506836\n",
       "31955  2023-12-29  153.380005  153.546875"
      ]
     },
     "execution_count": 106,
     "metadata": {},
     "output_type": "execute_result"
    }
   ],
   "source": [
    "dates_test = filtered_df['Date'].iloc[split + seq_length:]\n",
    "df_plot_lstm = pd.DataFrame({'Date': dates_test[:len(amazn)], 'Real': amazn_y.flatten(), 'Predict': amazn.flatten()})\n",
    "\n",
    "df_plot_lstm.tail(10)\n",
    "# df_plot_lstm.to_csv('AMAZON.csv')"
   ]
  }
 ],
 "metadata": {
  "kernelspec": {
   "display_name": "DSC",
   "language": "python",
   "name": "python3"
  },
  "language_info": {
   "codemirror_mode": {
    "name": "ipython",
    "version": 3
   },
   "file_extension": ".py",
   "mimetype": "text/x-python",
   "name": "python",
   "nbconvert_exporter": "python",
   "pygments_lexer": "ipython3",
   "version": "3.10.12"
  }
 },
 "nbformat": 4,
 "nbformat_minor": 2
}
